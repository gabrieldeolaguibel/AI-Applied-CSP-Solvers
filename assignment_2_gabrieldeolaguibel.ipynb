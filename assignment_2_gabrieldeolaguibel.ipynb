{
 "cells": [
  {
   "cell_type": "code",
   "execution_count": 1,
   "metadata": {},
   "outputs": [],
   "source": [
    "#Update your token\n",
    "STUDENT_TOKEN = 'EUGENIO MARCHIORI'\n",
    "\n",
    "## ignore this code, just used for submission\n",
    "import requests\n",
    "import pprint\n",
    "import json\n",
    "import random\n",
    "import math\n",
    "from copy import copy, deepcopy\n",
    "\n",
    "def get_problem(problem_id):\n",
    "  r = requests.get('https://emarchiori.eu.pythonanywhere.com/get-problem?TOKEN=%s&problem=%s' % (STUDENT_TOKEN, problem_id))\n",
    "  if not r.status_code == 200:\n",
    "    print('\\033[91m' + str(r.status_code))\n",
    "  return r.json()\n",
    "\n",
    "def submit_answer(problem_id, answer):\n",
    "  r = requests.get('https://emarchiori.eu.pythonanywhere.com/submit-answer?TOKEN=%s&problem=%s' % (STUDENT_TOKEN, problem_id), json = answer)\n",
    "  if not r.status_code == 200:\n",
    "    print('\\033[91m' + str(r.status_code))\n",
    "  result = r.json()['result']\n",
    "  if result == 'PASSED':\n",
    "    print('\\033[92m' + result)\n",
    "  else:\n",
    "    print('\\033[91m' + result)"
   ]
  },
  {
   "cell_type": "code",
   "execution_count": 2,
   "metadata": {},
   "outputs": [],
   "source": [
    "def format_value(value):\n",
    "  if value == '.':\n",
    "    return '..'\n",
    "  else:\n",
    "    s = str(value)\n",
    "    if len(s) == 1:\n",
    "      s = ' ' + s\n",
    "    return s\n",
    "\n",
    "def format_h(const, max):\n",
    "  s = ''\n",
    "  for i in range(max - len(const)):\n",
    "    s = s + '   '\n",
    "  s = s + ' '.join(map(format_value, const))\n",
    "  return s\n",
    "\n",
    "def pretty_print(board, h_const, v_const):\n",
    "  max_h = 1\n",
    "  for c in h_const:\n",
    "    max_h = max(max_h, len(c))\n",
    "  max_v = 1\n",
    "  for c in v_const:\n",
    "    max_v = max(max_v, len(c))\n",
    "\n",
    "  h_offset = ' '.join(map(lambda x: '  ', range(max_h)))\n",
    "  for i in range(max_v):\n",
    "    print('    ' + h_offset + ' '.join(map(lambda x: '  ' if i >= len(x) else format_value(x[i]), v_const)))\n",
    "  for r in range(len(board)):\n",
    "    row = board[r]\n",
    "    print((h_offset if r ==0 else format_h(h_const[r-1], max_h)) + ' ' +  ' '.join(map(format_value, row)))"
   ]
  },
  {
   "cell_type": "code",
   "execution_count": 4,
   "metadata": {},
   "outputs": [
    {
     "name": "stdout",
     "output_type": "stream",
     "text": [
      "{'board': [['X', 'X', 'X', 'X', 'X'],\n",
      "           ['X', '.', '.', '.', 'X'],\n",
      "           ['X', '.', '.', '.', 'X'],\n",
      "           ['X', 'X', '.', '.', '.'],\n",
      "           ['X', 'X', '.', '.', '.']],\n",
      " 'h_constraints': [[7], [19], [8], [15]],\n",
      " 'id': 0,\n",
      " 'v_constraints': [[5], [12], [22], [10]]}\n",
      "Input puzzle\n",
      "\u001b[91mIgnore: not checking values yet\n"
     ]
    }
   ],
   "source": [
    "problem = get_problem('kakuro')\n",
    "\n",
    "pprint.pprint(problem)\n",
    "\n",
    "board = problem['board']\n",
    "h_const = problem['h_constraints']\n",
    "v_const = problem['v_constraints']\n",
    "\n",
    "print('Input puzzle')\n",
    "#pretty_print(board, h_const, v_const)\n",
    "\n",
    "# This does not solve the problem, just makes it the same as the input\n",
    "solution = board\n",
    "\n",
    "# We print the solution in a way to make it easy to debug and check\n",
    "#print('Solution')\n",
    "#pretty_print(solution, h_const, v_const)\n",
    "\n",
    "answer = {\n",
    "    'board': board,\n",
    "    'h_const': h_const,\n",
    "    'v_const': v_const,\n",
    "    'id': problem['id']\n",
    "}\n",
    "\n",
    "# The answer is submitted to the server, this is just to check the format (it does not check the solution itself)\n",
    "# Note: We are doing this just to get used to it in following exercises mostly\n",
    "submit_answer('kakuro', answer)"
   ]
  },
  {
   "cell_type": "code",
   "execution_count": null,
   "metadata": {},
   "outputs": [],
   "source": [
    "# Representation of the problem\n",
    "\n",
    "# Initialize the domains. Each empty cell ('.') will have all numbers from 1 to 9 as possible values.\n",
    "domains = {(row, col): list(range(1, 10)) for row in range(len(board)) for col in range(len(board[0])) if board[row][col] == '.'}\n",
    "\n",
    "# Initialize the constraints. We will store them in a dictionary where the key is the cell (row, col)\n",
    "# and the value is a tuple containing the sum constraint for the horizontal and vertical blocks.\n",
    "constraints = {}\n",
    "\n",
    "# Populate the constraints dictionary with horizontal constraints\n",
    "for r, row in enumerate(h_const):\n",
    "    sum_constraint = row[0]\n",
    "    cells_in_block = [(r+1, c) for c, value in enumerate(board[r+1]) if value == '.']\n",
    "    for cell in cells_in_block:\n",
    "        constraints[cell] = constraints.get(cell, (0, 0))\n",
    "        constraints[cell] = (sum_constraint, constraints[cell][1])\n",
    "\n",
    "# Populate the constraints dictionary with vertical constraints\n",
    "for c, col in enumerate(v_const):\n",
    "    sum_constraint = col[0]\n",
    "    cells_in_block = [(r, c+1) for r, value in enumerate(board) if value[c+1] == '.']\n",
    "    for cell in cells_in_block:\n",
    "        constraints[cell] = constraints.get(cell, (0, 0))\n",
    "        constraints[cell] = (constraints[cell][0], sum_constraint)\n",
    "\n"
   ]
  },
  {
   "cell_type": "code",
   "execution_count": null,
   "metadata": {},
   "outputs": [],
   "source": [
    "# constraint propagation"
   ]
  }
 ],
 "metadata": {
  "kernelspec": {
   "display_name": "Python 3",
   "language": "python",
   "name": "python3"
  },
  "language_info": {
   "codemirror_mode": {
    "name": "ipython",
    "version": 3
   },
   "file_extension": ".py",
   "mimetype": "text/x-python",
   "name": "python",
   "nbconvert_exporter": "python",
   "pygments_lexer": "ipython3",
   "version": "3.11.3"
  }
 },
 "nbformat": 4,
 "nbformat_minor": 2
}
