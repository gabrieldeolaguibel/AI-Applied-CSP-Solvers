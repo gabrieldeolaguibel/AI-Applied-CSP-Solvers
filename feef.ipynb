{
 "cells": [
  {
   "cell_type": "code",
   "execution_count": 41,
   "metadata": {},
   "outputs": [],
   "source": [
    "#Update your token\n",
    "STUDENT_TOKEN = 'EUGENIO MARCHIORI'\n",
    "\n",
    "## ignore this code, just used for submission\n",
    "import requests\n",
    "import pprint\n",
    "import json\n",
    "import random\n",
    "import math\n",
    "from copy import copy, deepcopy\n",
    "\n",
    "def get_problem(problem_id):\n",
    "  r = requests.get('https://emarchiori.eu.pythonanywhere.com/get-problem?TOKEN=%s&problem=%s' % (STUDENT_TOKEN, problem_id))\n",
    "  if not r.status_code == 200:\n",
    "    print('\\033[91m' + str(r.status_code))\n",
    "  return r.json()\n",
    "\n",
    "def submit_answer(problem_id, answer):\n",
    "  r = requests.get('https://emarchiori.eu.pythonanywhere.com/submit-answer?TOKEN=%s&problem=%s' % (STUDENT_TOKEN, problem_id), json = answer)\n",
    "  if not r.status_code == 200:\n",
    "    print('\\033[91m' + str(r.status_code))\n",
    "  result = r.json()['result']\n",
    "  if result == 'PASSED':\n",
    "    print('\\033[92m' + result)\n",
    "  else:\n",
    "    print('\\033[91m' + result)"
   ]
  },
  {
   "cell_type": "code",
   "execution_count": 42,
   "metadata": {},
   "outputs": [],
   "source": [
    "def format_value(value):\n",
    "  if value == '.':\n",
    "    return '..'\n",
    "  else:\n",
    "    s = str(value)\n",
    "    if len(s) == 1:\n",
    "      s = ' ' + s\n",
    "    return s\n",
    "\n",
    "def format_h(const, max):\n",
    "  s = ''\n",
    "  for i in range(max - len(const)):\n",
    "    s = s + '   '\n",
    "  s = s + ' '.join(map(format_value, const))\n",
    "  return s\n",
    "\n",
    "def pretty_print(board, h_const, v_const):\n",
    "  max_h = 1\n",
    "  for c in h_const:\n",
    "    max_h = max(max_h, len(c))\n",
    "  max_v = 1\n",
    "  for c in v_const:\n",
    "    max_v = max(max_v, len(c))\n",
    "\n",
    "  h_offset = ' '.join(map(lambda x: '  ', range(max_h)))\n",
    "  for i in range(max_v):\n",
    "    print('    ' + h_offset + ' '.join(map(lambda x: '  ' if i >= len(x) else format_value(x[i]), v_const)))\n",
    "  for r in range(len(board)):\n",
    "    row = board[r]\n",
    "    print((h_offset if r ==0 else format_h(h_const[r-1], max_h)) + ' ' +  ' '.join(map(format_value, row)))"
   ]
  }
 ],
 "metadata": {
  "kernelspec": {
   "display_name": "Python 3",
   "language": "python",
   "name": "python3"
  },
  "language_info": {
   "codemirror_mode": {
    "name": "ipython",
    "version": 3
   },
   "file_extension": ".py",
   "mimetype": "text/x-python",
   "name": "python",
   "nbconvert_exporter": "python",
   "pygments_lexer": "ipython3",
   "version": "3.11.3"
  }
 },
 "nbformat": 4,
 "nbformat_minor": 2
}
